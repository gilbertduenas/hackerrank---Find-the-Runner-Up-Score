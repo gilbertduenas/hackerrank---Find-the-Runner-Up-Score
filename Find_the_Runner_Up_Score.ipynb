{
  "nbformat": 4,
  "nbformat_minor": 0,
  "metadata": {
    "colab": {
      "name": "Find the Runner-Up Score",
      "provenance": [],
      "authorship_tag": "ABX9TyNgg1hGPwfJDX0/tflzCD6q",
      "include_colab_link": true
    },
    "kernelspec": {
      "name": "python3",
      "display_name": "Python 3"
    }
  },
  "cells": [
    {
      "cell_type": "markdown",
      "metadata": {
        "id": "view-in-github",
        "colab_type": "text"
      },
      "source": [
        "<a href=\"https://colab.research.google.com/github/gilbertduenas/hackerrank---Find-the-Runner-Up-Score/blob/master/Find_the_Runner_Up_Score.ipynb\" target=\"_parent\"><img src=\"https://colab.research.google.com/assets/colab-badge.svg\" alt=\"Open In Colab\"/></a>"
      ]
    },
    {
      "cell_type": "markdown",
      "metadata": {
        "id": "jHicn2C7vjL-",
        "colab_type": "text"
      },
      "source": [
        "Kinda sloppy, but it works.\n",
        "\n",
        "---"
      ]
    },
    {
      "cell_type": "code",
      "metadata": {
        "id": "2vqO5ebLpExu",
        "colab_type": "code",
        "colab": {}
      },
      "source": [
        "arr = map(int, '2 3 6 6 5'.split())"
      ],
      "execution_count": 127,
      "outputs": []
    },
    {
      "cell_type": "code",
      "metadata": {
        "id": "IBMzybeMt1db",
        "colab_type": "code",
        "colab": {}
      },
      "source": [
        "def get_second(arr):\n",
        "  templist = []\n",
        "  test = [i for i in arr]\n",
        "  [templist.append(i) for i in test if i not in templist]\n",
        "  templist.sort()\n",
        "  return templist[len(templist)-2]"
      ],
      "execution_count": 128,
      "outputs": []
    },
    {
      "cell_type": "code",
      "metadata": {
        "id": "Teo14jxxuqu8",
        "colab_type": "code",
        "colab": {
          "base_uri": "https://localhost:8080/",
          "height": 35
        },
        "outputId": "95c3d0a3-f882-4349-c1e4-8230887bf1a5"
      },
      "source": [
        "get_second(arr)"
      ],
      "execution_count": 129,
      "outputs": [
        {
          "output_type": "execute_result",
          "data": {
            "text/plain": [
              "5"
            ]
          },
          "metadata": {
            "tags": []
          },
          "execution_count": 129
        }
      ]
    }
  ]
}